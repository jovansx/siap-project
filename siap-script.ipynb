{
  "cells": [
    {
      "cell_type": "markdown",
      "metadata": {
        "id": "view-in-github",
        "colab_type": "text"
      },
      "source": [
        "<a href=\"https://colab.research.google.com/github/jovansx/siap-project/blob/develop/siap-script.ipynb\" target=\"_parent\"><img src=\"https://colab.research.google.com/assets/colab-badge.svg\" alt=\"Open In Colab\"/></a>"
      ]
    },
    {
      "cell_type": "markdown",
      "source": [
        "# Imports"
      ],
      "metadata": {
        "id": "C4LuZ1dDtQN_"
      }
    },
    {
      "cell_type": "code",
      "source": [
        "from google.colab import drive\n",
        "drive.mount('/content/drive')\n",
        "\n",
        "import pandas as pd"
      ],
      "metadata": {
        "id": "GZQ4BT2DtkkL"
      },
      "execution_count": null,
      "outputs": []
    },
    {
      "cell_type": "markdown",
      "source": [
        "# Methods"
      ],
      "metadata": {
        "id": "knUWnFxN71cN"
      }
    },
    {
      "cell_type": "code",
      "source": [
        "def convert_champion_json_to_map():\n",
        "  df_champs = pd.read_json('/content/drive/MyDrive/SIAP Data/champion_info.json')\n",
        "  champ_map = {}\n",
        "\n",
        "  for ch in df_champs.data:\n",
        "    champ_map[ch[\"id\"]] = ch[\"name\"]\n",
        "  return champ_map\n",
        "\n",
        "def generate_df2(champ_map, champ_id, champ_name, df1):\n",
        "  df2 = pd.DataFrame(list(champ_map.items()), columns = [champ_id,champ_name])\n",
        "  merged = pd.merge(df1, df2, on=champ_id)\n",
        "  dropped = merged.drop(columns=[champ_id], axis=1)\n",
        "  return dropped\n",
        "\n",
        "def merge(champ_map, df1):\n",
        "  df1 = generate_df2(champ_map, 't1_champ1id', 't1_champ1name', df1)\n",
        "  df1 = generate_df2(champ_map, 't1_champ2id', 't1_champ2name', df1)\n",
        "  df1 = generate_df2(champ_map, 't1_champ3id', 't1_champ3name', df1)\n",
        "  df1 = generate_df2(champ_map, 't1_champ4id', 't1_champ4name', df1)\n",
        "  df1 = generate_df2(champ_map, 't1_champ5id', 't1_champ5name', df1)\n",
        "  df1 = generate_df2(champ_map, 't2_champ1id', 't2_champ1name', df1)\n",
        "  df1 = generate_df2(champ_map, 't2_champ2id', 't2_champ2name', df1)\n",
        "  df1 = generate_df2(champ_map, 't2_champ3id', 't2_champ3name', df1)\n",
        "  df1 = generate_df2(champ_map, 't2_champ4id', 't2_champ4name', df1)\n",
        "  df1 = generate_df2(champ_map, 't2_champ5id', 't2_champ5name', df1)\n",
        "  return df1\n",
        "\n",
        "def delete_columns(df, columns_deletion):\n",
        "  return df.drop(columns=columns_deletion, axis=1)\n",
        "\n",
        "def preprocess_dataframe(df_stats):\n",
        "  df_stats = delete_columns(df_stats, [\"Class\", \"Role\", \"Tier\", \"Trend\", \"Role %\", \"Pick %\", \"Ban %\", \"KDA\"])   # Remove columns\n",
        "  df_stats['Win %'] = df_stats['Win %'].str[:5].astype(float)                                                   # Remove % and convert to float\n",
        "  distinct_names = set(df_stats['Name'])                                                                        # Distinct names\n",
        "  new_df_stats = pd.DataFrame({'Name': [], 'Score': [], 'Win': []})                                             # New empty dataframe of stats\n",
        "\n",
        "  for name in distinct_names:\n",
        "    sub_df_stats = df_stats.loc[df_stats['Name'] == name]\n",
        "    score = sub_df_stats[\"Score\"].mean(axis=0)\n",
        "    win_rate = sub_df_stats[\"Win %\"].mean(axis=0)\n",
        "    one_row_df = pd.DataFrame({\"Name\": [name], \"Score\": [score], \"Win\": [win_rate]})\n",
        "    new_df_stats = new_df_stats.append(one_row_df)                                                              # Append average values for every champion\n",
        "  new_df_stats.index = range(1,len(new_df_stats)+1)                                                             # Set incremental indexes\n",
        "  return new_df_stats\n",
        "\n",
        "def merge_games_with_stats_helper(df_games, df_stats, old_score, new_score, old_win, new_win, name):\n",
        "  df_stats.columns = df_stats.columns.str.replace(old_score, new_score)\n",
        "  df_stats.columns = df_stats.columns.str.replace(old_win, new_win)\n",
        "  df_games.columns = df_games.columns.str.replace(name, \"Name\")\n",
        "  df_games = pd.merge(df_games, df_stats, on=\"Name\")\n",
        "  df_games = df_games.drop(columns=[\"Name\"], axis=1)\n",
        "  return df_games, df_stats\n",
        "\n",
        "def merge_games_with_stats(df_games, df_stats):\n",
        "  df_games, df_stats = merge_games_with_stats_helper(df_games, df_stats, \"Score\", \"t1_champ1score\", \"Win\", \"t1_champ1win\", \"t1_champ1name\")\n",
        "  df_games, df_stats = merge_games_with_stats_helper(df_games, df_stats, \"t1_champ1score\", \"t1_champ2score\", \"t1_champ1win\", \"t1_champ2win\", \"t1_champ2name\")\n",
        "  df_games, df_stats = merge_games_with_stats_helper(df_games, df_stats, \"t1_champ2score\", \"t1_champ3score\", \"t1_champ2win\", \"t1_champ3win\", \"t1_champ3name\")\n",
        "  df_games, df_stats = merge_games_with_stats_helper(df_games, df_stats, \"t1_champ3score\", \"t1_champ4score\", \"t1_champ3win\", \"t1_champ4win\", \"t1_champ4name\")\n",
        "  df_games, df_stats = merge_games_with_stats_helper(df_games, df_stats, \"t1_champ4score\", \"t1_champ5score\", \"t1_champ4win\", \"t1_champ5win\", \"t1_champ5name\")\n",
        "  df_games, df_stats = merge_games_with_stats_helper(df_games, df_stats, \"t1_champ5score\", \"t2_champ1score\", \"t1_champ5win\", \"t2_champ1win\", \"t2_champ1name\")\n",
        "  df_games, df_stats = merge_games_with_stats_helper(df_games, df_stats, \"t2_champ1score\", \"t2_champ2score\", \"t2_champ1win\", \"t2_champ2win\", \"t2_champ2name\")\n",
        "  df_games, df_stats = merge_games_with_stats_helper(df_games, df_stats, \"t2_champ2score\", \"t2_champ3score\", \"t2_champ2win\", \"t2_champ3win\", \"t2_champ3name\")\n",
        "  df_games, df_stats = merge_games_with_stats_helper(df_games, df_stats, \"t2_champ3score\", \"t2_champ4score\", \"t2_champ3win\", \"t2_champ4win\", \"t2_champ4name\")\n",
        "  df_games, df_stats = merge_games_with_stats_helper(df_games, df_stats, \"t2_champ4score\", \"t2_champ5score\", \"t2_champ4win\", \"t2_champ5win\", \"t2_champ5name\")\n",
        "  return df_games"
      ],
      "metadata": {
        "id": "_f9eTm-Z74EE"
      },
      "execution_count": 183,
      "outputs": []
    },
    {
      "cell_type": "markdown",
      "source": [
        "# Main "
      ],
      "metadata": {
        "id": "7qjAM_yx8cRS"
      }
    },
    {
      "cell_type": "code",
      "source": [
        "\n",
        "df_games = pd.read_csv('/content/drive/MyDrive/SIAP Data/games.csv')\n",
        "df_stats = pd.read_csv('/content/drive/MyDrive/SIAP Data/League of Legends Champion Stats 12.1.csv', delimiter=';')\n",
        "\n",
        "champ_map = convert_champion_json_to_map()\n",
        "df_games = merge(champ_map, df_games)\n",
        "df_games = delete_columns(df_games, [\"gameId\", \"creationTime\", \"seasonId\", \"firstBlood\", \"firstTower\", \"firstInhibitor\", \"firstBaron\",\n",
        "                                     \"firstDragon\", \"firstRiftHerald\", \"t1_towerKills\", \"t1_inhibitorKills\", \"t1_baronKills\", \"t1_dragonKills\",\n",
        "                                     \"t1_riftHeraldKills\", \"t2_towerKills\", \"t2_inhibitorKills\", \"t2_baronKills\", \"t2_dragonKills\", \"t2_riftHeraldKills\"])\n",
        "df_games = delete_columns(df_games, [\"t1_champ1_sum1\", \"t1_champ1_sum2\", \"t1_champ2_sum1\", \"t1_champ2_sum2\", \"t1_champ3_sum1\", \"t1_champ3_sum2\",\n",
        "                                     \"t1_champ4_sum1\", \"t1_champ4_sum2\", \"t1_champ5_sum1\", \"t1_champ5_sum2\", \"t2_champ1_sum1\", \"t2_champ1_sum2\",\n",
        "                                     \"t2_champ2_sum1\", \"t2_champ2_sum2\", \"t2_champ3_sum1\", \"t2_champ3_sum2\", \"t2_champ4_sum1\", \"t2_champ4_sum2\",\n",
        "                                     \"t2_champ5_sum1\", \"t2_champ5_sum2\"])\n",
        "\n",
        "df_stats = preprocess_dataframe(df_stats)\n",
        "\n",
        "df_games = merge_games_with_stats(df_games, df_stats)\n",
        "print(df_games.columns)\n",
        "\n",
        "# Uradi normalizaciju podataka\n",
        "\n",
        "# Napravi model (Vise modela pa da poredimo)\n",
        "\n",
        "# Treniraj\n",
        "\n",
        "# Testiraj"
      ],
      "metadata": {
        "id": "8kHhsLjE8e_i",
        "outputId": "a1b0f79b-9a63-4c2c-db31-a20ab0a1bd71",
        "colab": {
          "base_uri": "https://localhost:8080/"
        }
      },
      "execution_count": 185,
      "outputs": [
        {
          "output_type": "stream",
          "name": "stdout",
          "text": [
            "Index(['gameDuration', 'winner', 't1_ban1', 't1_ban2', 't1_ban3', 't1_ban4',\n",
            "       't1_ban5', 't2_ban1', 't2_ban2', 't2_ban3', 't2_ban4', 't2_ban5',\n",
            "       't1_champ1score', 't1_champ1win', 't1_champ2score', 't1_champ2win',\n",
            "       't1_champ3score', 't1_champ3win', 't1_champ4score', 't1_champ4win',\n",
            "       't1_champ5score', 't1_champ5win', 't2_champ1score', 't2_champ1win',\n",
            "       't2_champ2score', 't2_champ2win', 't2_champ3score', 't2_champ3win',\n",
            "       't2_champ4score', 't2_champ4win', 't2_champ5score', 't2_champ5win'],\n",
            "      dtype='object')\n"
          ]
        }
      ]
    }
  ],
  "metadata": {
    "colab": {
      "name": "Welcome To Colaboratory",
      "provenance": [],
      "include_colab_link": true
    },
    "kernelspec": {
      "display_name": "Python 3",
      "name": "python3"
    }
  },
  "nbformat": 4,
  "nbformat_minor": 0
}